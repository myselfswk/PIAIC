{
 "cells": [
  {
   "cell_type": "code",
   "execution_count": 2,
   "metadata": {},
   "outputs": [
    {
     "name": "stdout",
     "output_type": "stream",
     "text": [
      "Enter the radius:2.2\n",
      "The Area of Circle is 15.205308443374602\n"
     ]
    }
   ],
   "source": [
    "#Question no 1                                      print emoji's = https://unicode.org/emoji/charts/full-emoji-list.html\n",
    "import math\n",
    "radius = float(input(\"Enter the radius:\"))\n",
    "Area = math.pi*pow(radius,2)\n",
    "print(\"The Area of Circle is {}\".format(Area))"
   ]
  },
  {
   "cell_type": "code",
   "execution_count": 5,
   "metadata": {},
   "outputs": [
    {
     "name": "stdout",
     "output_type": "stream",
     "text": [
      "Check weither the value either positive or negative or maybe zero:-34\n",
      "The Number -34.0 is Negative\n"
     ]
    }
   ],
   "source": [
    "#Question no 2\n",
    "no = float(input(\"Check weither the value either positive or negative or maybe zero:\"))\n",
    "if (no>0):\n",
    "    print(\"The Number {} is Positive\".format(no))\n",
    "elif (no<0):\n",
    "    print(\"The Number {} is Negative\".format(no))\n",
    "elif (no==0):\n",
    "    print(\"The Number is Zero\")"
   ]
  },
  {
   "cell_type": "code",
   "execution_count": 8,
   "metadata": {},
   "outputs": [
    {
     "name": "stdout",
     "output_type": "stream",
     "text": [
      "Enter The Numerator Value:7\n",
      "Enter The Denominarator Value:2\n",
      "Number 7 isn't Completely Divisible by 2\n"
     ]
    }
   ],
   "source": [
    "#Question no 3\n",
    "Numerator = int(input(\"Enter The Numerator Value:\"))\n",
    "Denominarator = int(input(\"Enter The Denominarator Value:\"))\n",
    "if (Numerator % Denominarator == 0):\n",
    "    print(\"Number {} is Completely Divisible by {}\".format(Numerator, Denominarator))\n",
    "else:\n",
    "    print(\"Number {} isn't Completely Divisible by {}\".format(Numerator, Denominarator))"
   ]
  },
  {
   "cell_type": "code",
   "execution_count": 5,
   "metadata": {},
   "outputs": [
    {
     "name": "stdout",
     "output_type": "stream",
     "text": [
      "Enter 1st Date (yyyy/mm/dd):2019/12/12\n",
      "2019\n",
      "12\n",
      "12\n",
      "----------\n",
      "12\n",
      "Enter 2nd Date (yyyy/mm/dd):2019/12/21\n",
      "2019\n",
      "12\n",
      "21\n",
      "----------\n",
      "21\n",
      "-----------\n",
      "Days Between Two Dates is: 9\n"
     ]
    }
   ],
   "source": [
    "#Question no 4\n",
    "date1 = input(\"Enter 1st Date (yyyy/mm/dd):\")\n",
    "d1 = date1.split(\"/\")\n",
    "for n1 in d1:\n",
    "    print(n1)\n",
    "    \n",
    "print(\"----------\")\n",
    "print(n1)\n",
    "date2 = input(\"Enter 2nd Date (yyyy/mm/dd):\")\n",
    "d2 = date2.split(\"/\")\n",
    "for n2 in d2:\n",
    "    print(n2)\n",
    "    \n",
    "print(\"----------\")\n",
    "print(n2)\n",
    "    \n",
    "print(\"-----------\")\n",
    "print(\"Days Between Two Dates is:\", int(n2) - int(n1))"
   ]
  },
  {
   "cell_type": "code",
   "execution_count": 35,
   "metadata": {},
   "outputs": [
    {
     "name": "stdout",
     "output_type": "stream",
     "text": [
      "Enter the Radius:3\n",
      "The Volume Of Sphere is 113.09733552923254\n"
     ]
    }
   ],
   "source": [
    "#Question no 5\n",
    "import math\n",
    "radius = float(input(\"Enter the Radius:\"))\n",
    "Volume = (4/3)*math.pi*pow(radius,3)\n",
    "print(\"The Volume Of Sphere is {}\".format(Volume))"
   ]
  },
  {
   "cell_type": "code",
   "execution_count": 43,
   "metadata": {},
   "outputs": [
    {
     "name": "stdout",
     "output_type": "stream",
     "text": [
      "Enter Your String Value:waleed\n",
      "Enter the Number:6\n",
      "waleedwaleedwaleedwaleedwaleedwaleed\n"
     ]
    }
   ],
   "source": [
    "#Question no 6\n",
    "Str = input(\"Enter Your String Value:\")\n",
    "num = int(input(\"Enter the Number:\"))\n",
    "ans = Str*num\n",
    "print(ans)"
   ]
  },
  {
   "cell_type": "code",
   "execution_count": 12,
   "metadata": {},
   "outputs": [
    {
     "name": "stdout",
     "output_type": "stream",
     "text": [
      "Enter The Number:9\n",
      "9 is ODD\n"
     ]
    }
   ],
   "source": [
    "#Question no 7\n",
    "num = int(input(\"Enter The Number:\"))\n",
    "if (num > 0):\n",
    "    if (num%2 == 0):\n",
    "        print(\"{} is Even\".format(num))\n",
    "    else:\n",
    "        print(\"{} is ODD\".format(num))\n",
    "        \n",
    "elif (num == 0):\n",
    "        print(\"Number is Zero\")\n",
    "else:\n",
    "    print(\"The Number is Negative\")"
   ]
  },
  {
   "cell_type": "code",
   "execution_count": 13,
   "metadata": {},
   "outputs": [
    {
     "name": "stdout",
     "output_type": "stream",
     "text": [
      "Enter a Letter:a\n",
      "Letter a is Vowel\n"
     ]
    }
   ],
   "source": [
    "#Question no 8\n",
    "v_t = input(\"Enter a Letter:\")\n",
    "if (v_t == \"a\" or v_t == \"A\"):\n",
    "    print(\"Letter {} is Vowel\".format(v_t))\n",
    "elif (v_t == \"e\" or v_t == \"E\"):\n",
    "    print(\"Letter {} is Vowel\".format(v_t))\n",
    "elif (v_t == \"i\" or v_t == \"I\"):\n",
    "    print(\"Letter {} is Vowel\".format(v_t))\n",
    "elif (v_t == \"o\" or v_t == \"O\"):\n",
    "    print(\"Letter {} is Vowel\".format(v_t))\n",
    "elif (v_t == \"u\" or v_t == \"U\"):\n",
    "    print(\"Letter {} is Vowel\".format(v_t))\n",
    "else:\n",
    "    print(\"Letter isn't Vowel\")"
   ]
  },
  {
   "cell_type": "code",
   "execution_count": 2,
   "metadata": {},
   "outputs": [
    {
     "name": "stdout",
     "output_type": "stream",
     "text": [
      "Enter the Magnitude of Triangle Height:3.3\n",
      "Enter the Magnitude of Triangle Base:2.2\n",
      "Area of Triangle with Height 3.3 and Base 2.2 is 3.63\n"
     ]
    }
   ],
   "source": [
    "#Question no 9\n",
    "height = float(input(\"Enter the Magnitude of Triangle Height:\"))\n",
    "base = float(input(\"Enter the Magnitude of Triangle Base:\"))\n",
    "Area_of_Tri = (height*base)/2\n",
    "print(\"Area of Triangle with Height {} and Base {} is {}\".format(height,base,Area_of_Tri))"
   ]
  },
  {
   "cell_type": "code",
   "execution_count": 3,
   "metadata": {},
   "outputs": [
    {
     "name": "stdout",
     "output_type": "stream",
     "text": [
      "Please Enter Principle Amount:10000\n",
      "Please Enter Rate of interest in %:0.1\n",
      "Enter number of years for investment:5\n",
      "After 5.0 years your principal amount 10000.0 over an interest rate of 0.1 % will be 16105.100000000006\n"
     ]
    }
   ],
   "source": [
    "#Question no 10\n",
    "p_a = float(input(\"Please Enter Principle Amount:\"))\n",
    "r_o_i = float(input(\"Please Enter Rate of interest in %:\"))\n",
    "y_o_i = float(input(\"Enter number of years for investment:\"))\n",
    "interest = p_a*pow((1+r_o_i)/1,(y_o_i)/1)\n",
    "print(\"After {} years your principal amount {} over an interest rate of {} % will be {}\".format(y_o_i, p_a, r_o_i, interest))"
   ]
  },
  {
   "cell_type": "code",
   "execution_count": 8,
   "metadata": {},
   "outputs": [
    {
     "name": "stdout",
     "output_type": "stream",
     "text": [
      "Enter Cordinate of x1:2\n",
      "Enter Cordinate of x2:4\n",
      "Enter Cordinate of y1:4\n",
      "Enter Cordinate of y2:4\n",
      "Distance between points (4, 2) and (4, 4) is 2.0\n"
     ]
    }
   ],
   "source": [
    "#Question no 11\n",
    "import math\n",
    "cx1 = int(input(\"Enter Cordinate of x1:\"))\n",
    "cx2 = int(input(\"Enter Cordinate of x2:\"))\n",
    "cy1 = int(input(\"Enter Cordinate of y1:\"))\n",
    "cy2 = int(input(\"Enter Cordinate of y2:\"))\n",
    "distance = math.sqrt(pow((cy1-cx1),2) + pow((cy2-cx2),2))\n",
    "print(\"Distance between points ({}, {}) and ({}, {}) is {}\".format(cy1,cx1,cy2,cx2,distance))"
   ]
  },
  {
   "cell_type": "code",
   "execution_count": 9,
   "metadata": {},
   "outputs": [
    {
     "name": "stdout",
     "output_type": "stream",
     "text": [
      "Enter the Height in feet:5\n",
      "There are 152.4 Cm in 5 ft\n"
     ]
    }
   ],
   "source": [
    "#Question no 12\n",
    "input_feet = int(input(\"Enter the Height in feet:\"))\n",
    "cm = 30.48\n",
    "feet = input_feet * cm\n",
    "print(\"There are {} Cm in {} ft\".format(feet,input_feet))"
   ]
  },
  {
   "cell_type": "code",
   "execution_count": 11,
   "metadata": {},
   "outputs": [
    {
     "name": "stdout",
     "output_type": "stream",
     "text": [
      "Enter Height in Cm:180\n",
      "Enter Weight in KG:75\n",
      "Your BMI is 23.148148148148145\n"
     ]
    }
   ],
   "source": [
    "#Question no 13\n",
    "h_cm = int(input(\"Enter Height in Cm:\"))\n",
    "w_kg = int(input(\"Enter Weight in KG:\"))\n",
    "formula = w_kg/pow((h_cm/100),2)\n",
    "print(\"Your BMI is {}\".format(formula))"
   ]
  },
  {
   "cell_type": "code",
   "execution_count": 30,
   "metadata": {},
   "outputs": [
    {
     "name": "stdout",
     "output_type": "stream",
     "text": [
      "Enter the value of n:5\n",
      "Sum of n Positive integers till 5 is 15.\n"
     ]
    }
   ],
   "source": [
    "#Question no 14\n",
    "no = int(input(\"Enter the value of n:\"))\n",
    "d = 0\n",
    "for num in range(1,no+1,1):   #starting point,ending point,increament\n",
    "    d = d + num\n",
    "print(\"Sum of n Positive integers till {} is {}.\".format(no,d))"
   ]
  },
  {
   "cell_type": "code",
   "execution_count": 1,
   "metadata": {},
   "outputs": [
    {
     "name": "stdout",
     "output_type": "stream",
     "text": [
      "Enter a number: 1234\n",
      "Sum of 4 Numbers is 10\n",
      "------------\n",
      "-----OR-----\n",
      "------------\n",
      "Enter the number : 1234\n",
      "Sum of 4 Numbers is 10\n"
     ]
    }
   ],
   "source": [
    "#Question no 15\n",
    "import math\n",
    "number = int(input('Enter a number: '))\n",
    "no = len(str(number))\n",
    "result = 0\n",
    "while number > 0:\n",
    "    number_1 = number % 10\n",
    "    result = result + number_1\n",
    "    number = number//10   #(//) can't gets float values(Numbers after point values)\n",
    "print(\"Sum of {} Numbers is {}\".format(no,result))\n",
    "\n",
    "print(\"------------\")\n",
    "print(\"-----OR-----\")   #Same program but different approach\n",
    "print(\"------------\")\n",
    "\n",
    "num = input(\"Enter the number : \")    #1234\n",
    "num1 = len(num)            #4\n",
    "total1 = 0\n",
    "for w in range(0,num1):\n",
    "    total1 += int(num[w])\n",
    "print(\"Sum of {} Numbers is {}\".format(num1,total1))"
   ]
  },
  {
   "cell_type": "code",
   "execution_count": 1,
   "metadata": {},
   "outputs": [
    {
     "name": "stdout",
     "output_type": "stream",
     "text": [
      "Enter any decimal number: 13\n",
      "1101\n",
      "\n",
      "------------\n",
      "Enter any decimal number: 13\n",
      "Equivalent Binary Number:  0b1101\n"
     ]
    }
   ],
   "source": [
    "#Question no 16\n",
    "def decimalToBinary(num):    #Recursive function : use like a loop\n",
    "    if num > 1:\n",
    "        decimalToBinary(num // 2)                            #  32 16 8 4 2 1\n",
    "    print(num % 2, end='')                                   #  0  0  0 1 0 1\n",
    "\n",
    "\n",
    "# decimal number\n",
    "number = int(input(\"Enter any decimal number: \"))\n",
    "\n",
    "decimalToBinary(number)\n",
    "\n",
    "print(\"\\n\")\n",
    "print(\"------------\")\n",
    "\n",
    "#By Pre-defined function bin()...\n",
    "number = int(input(\"Enter any decimal number: \"))\n",
    "\n",
    "# print equivalent binary number\n",
    "print(\"Equivalent Binary Number: \", bin(number))\n",
    "\n",
    "\n",
    "\n"
   ]
  },
  {
   "cell_type": "code",
   "execution_count": 20,
   "metadata": {},
   "outputs": [
    {
     "name": "stdout",
     "output_type": "stream",
     "text": [
      "enter a Binary number: 1101\n",
      "Decimal Representation of 1101 is 13\n"
     ]
    }
   ],
   "source": [
    "#Question no 17\n",
    "binary = input('Enter a Binary number: ')\n",
    "decimal = 0\n",
    "for digit in binary:\n",
    "    decimal = decimal*2 + int(digit)\n",
    "print(\"Decimal Representation of {} is {}\".format(binary,decimal))"
   ]
  },
  {
   "cell_type": "code",
   "execution_count": 18,
   "metadata": {},
   "outputs": [
    {
     "name": "stdout",
     "output_type": "stream",
     "text": [
      "Enter Texts/Sentence:QuickBrownFoxJumpsovertheDog\n",
      "Vowels: 9 \n",
      "Consonants: 19\n"
     ]
    }
   ],
   "source": [
    "#Question no 18\n",
    "v_c = input(\"Enter Texts/Sentence:\")\n",
    "vowel = 0\n",
    "consonent = 0\n",
    "for v_t in v_c:\n",
    "    if (v_t == \"a\" or v_t == \"A\" or v_t == \"e\" or v_t == \"E\" or v_t == \"i\" or v_t == \"I\" or v_t == \"o\" or v_t == \"O\"\n",
    "       or v_t == \"u\" or v_t == \"U\"):\n",
    "        vowel += 1\n",
    "    else:\n",
    "        consonent += 1    #space is also count in the consonents\n",
    "        \n",
    "print(\"Vowels: {} \\nConsonants: {}\".format(vowel,consonent))"
   ]
  },
  {
   "cell_type": "code",
   "execution_count": 3,
   "metadata": {},
   "outputs": [
    {
     "name": "stdout",
     "output_type": "stream",
     "text": [
      "Enter any Word/Name:Waleed\n",
      "waleed isn't Palindrom\n",
      "----------\n",
      "----OR----\n",
      "----------\n",
      "Enter any word/name  : Madam\n",
      "True\n"
     ]
    }
   ],
   "source": [
    "#Question no 19\n",
    "name = input(\"Enter any Word/Name:\")\n",
    "name1 = name.lower()\n",
    "if (name1 == name1[::-1]):\n",
    "    print(\"{} is Palindrom\".format(name1))\n",
    "else:\n",
    "    print(\"{} isn't Palindrom\".format(name1))\n",
    "    \n",
    "print(\"----------\")\n",
    "print(\"----OR----\")\n",
    "print(\"----------\")\n",
    "\n",
    "#Via Function\n",
    "def palindrom_function(name):\n",
    "    if name == name[::-1]:\n",
    "        return True\n",
    "    return False\n",
    "name = input(\"Enter any word/name  : \")\n",
    "print(f\"{palindrom_function(name.lower())}\")"
   ]
  },
  {
   "cell_type": "code",
   "execution_count": 56,
   "metadata": {},
   "outputs": [
    {
     "name": "stdout",
     "output_type": "stream",
     "text": [
      "Enter any sentence:Python 3.2\n",
      "Numbers = 2 \n",
      "Alphabets = 6 \n",
      "Special Characters = 1 \n",
      "Spaces = 1\n"
     ]
    }
   ],
   "source": [
    "#Question no 20\n",
    "import string\n",
    "sen = input(\"Enter any sentence:\")\n",
    "Numbers = 0\n",
    "Alphabets = 0\n",
    "Special_Characters = 0\n",
    "Spaces = 0\n",
    "for i in range(len(sen)):   #ord() used to get alphabets using numbers(index)\n",
    "    if ((ord(sen[i]) >= 97 and ord(sen[i]) <= 122) or (ord(sen[i]) >= 65 and ord(sen[i]) <= 90)):\n",
    "        Alphabets +=1\n",
    "    elif(ord(sen[i]) >= 48 and ord(sen[i]) <= 57):\n",
    "        Numbers += 1\n",
    "    elif (sen[i] == \" \"):\n",
    "        Spaces += 1\n",
    "    else:\n",
    "        Special_Characters += 1\n",
    "        \n",
    "print(\"Numbers = {} \\nAlphabets = {}\"\n",
    "      \" \\nSpecial Characters = {} \\nSpaces = {}\".format(Numbers, Alphabets, Special_Characters, Spaces))"
   ]
  },
  {
   "cell_type": "code",
   "execution_count": 26,
   "metadata": {},
   "outputs": [
    {
     "name": "stdout",
     "output_type": "stream",
     "text": [
      "* \n",
      "* * \n",
      "* * * \n",
      "* * * * \n",
      "* * * * * \n",
      "* * * * \n",
      "* * * \n",
      "* * \n",
      "* \n"
     ]
    }
   ],
   "source": [
    "#Question no 21\n",
    "for i in range(0, 5):\n",
    "    for j in range(0, i+1):\n",
    "        print(\"*\",end =\" \")   #end means all values in a single line\n",
    "    print()\n",
    "    \n",
    "for i in range(4, 0, -1):\n",
    "    for j in range(i, 0, -1):\n",
    "        print(\"*\",end =\" \")   #end means all values in a single line\n",
    "    print()"
   ]
  },
  {
   "cell_type": "code",
   "execution_count": 55,
   "metadata": {},
   "outputs": [
    {
     "name": "stdout",
     "output_type": "stream",
     "text": [
      "1 \n",
      "1 2 \n",
      "1 2 3 \n",
      "1 2 3 4 \n",
      "1 2 3 4 5 \n",
      "1 2 3 4 \n",
      "1 2 3 \n",
      "1 2 \n",
      "1 \n",
      "\n",
      "-------------\n",
      "-----OR------\n",
      "-------------\n",
      "\n",
      "Enter the number:5\n",
      "1 \n",
      "1 2 \n",
      "1 2 3 \n",
      "1 2 3 4 \n",
      "1 2 3 4 5 \n",
      "1 2 3 4 \n",
      "1 2 3 \n",
      "1 2 \n",
      "1 \n"
     ]
    }
   ],
   "source": [
    "#Question no 22\n",
    "for i in range(0, 5):\n",
    "    num = 1\n",
    "    for j in range(0, i+1):\n",
    "        print(num, end=\" \")\n",
    "        num = num + 1\n",
    "    print()\n",
    "    \n",
    "for i in range(4, 0,-1):\n",
    "    num = 1\n",
    "    for j in range(i, 0, -1):\n",
    "        print(num, end=\" \")\n",
    "        num = num + 1\n",
    "    print()\n",
    "\n",
    "print()\n",
    "print(\"-------------\")\n",
    "print(\"-----OR------\")       #Second Code\n",
    "print(\"-------------\")\n",
    "print()\n",
    "\n",
    "num = int(input(\"Enter the number:\"))\n",
    "for i in range(1,num+1):\n",
    "    for j in range(1,i+1):\n",
    "        print(j,end=\" \")\n",
    "    print()\n",
    "    \n",
    "for i in range(num-1,0,-1):\n",
    "    for j in range(1,i+1):\n",
    "        print(j,end=\" \")\n",
    "    print()"
   ]
  },
  {
   "cell_type": "code",
   "execution_count": 50,
   "metadata": {},
   "outputs": [
    {
     "name": "stdout",
     "output_type": "stream",
     "text": [
      "Enter the Number:9\n",
      "1 \n",
      "2 2 \n",
      "3 3 3 \n",
      "4 4 4 4 \n",
      "5 5 5 5 5 \n",
      "6 6 6 6 6 6 \n",
      "7 7 7 7 7 7 7 \n",
      "8 8 8 8 8 8 8 8 \n",
      "9 9 9 9 9 9 9 9 9 \n"
     ]
    }
   ],
   "source": [
    "#Question no 23\n",
    "num1 = int(input(\"Enter the Number:\"))\n",
    "for i in range(1,num1+1):\n",
    "    for j in range(1,i+1):\n",
    "        print(i,end=\" \")\n",
    "    print()"
   ]
  },
  {
   "cell_type": "code",
   "execution_count": null,
   "metadata": {},
   "outputs": [],
   "source": []
  }
 ],
 "metadata": {
  "kernelspec": {
   "display_name": "Python 3",
   "language": "python",
   "name": "python3"
  },
  "language_info": {
   "codemirror_mode": {
    "name": "ipython",
    "version": 3
   },
   "file_extension": ".py",
   "mimetype": "text/x-python",
   "name": "python",
   "nbconvert_exporter": "python",
   "pygments_lexer": "ipython3",
   "version": "3.7.3"
  }
 },
 "nbformat": 4,
 "nbformat_minor": 2
}
