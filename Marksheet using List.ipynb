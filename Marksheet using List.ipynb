{
 "cells": [
  {
   "cell_type": "code",
   "execution_count": 1,
   "metadata": {},
   "outputs": [
    {
     "name": "stdout",
     "output_type": "stream",
     "text": [
      "Name:M Waleed Khan\n",
      "Father Name:Nadir Shah Khan\n",
      "Class:12th\n",
      "Section:A\n",
      "Faculty:Pre-Engineering\n",
      "Roll No:807614\n"
     ]
    }
   ],
   "source": [
    "Name = input(\"Name:\")\n",
    "Father = input(\"Father Name:\")\n",
    "Class = input(\"Class:\")\n",
    "Section = input(\"Section:\")\n",
    "Faculty = input(\"Faculty:\")\n",
    "Roll_No = input(\"Roll No:\")"
   ]
  },
  {
   "cell_type": "code",
   "execution_count": 3,
   "metadata": {},
   "outputs": [
    {
     "name": "stdout",
     "output_type": "stream",
     "text": [
      "Subjects\n",
      "English:72\n",
      "Mathematics:95\n",
      "Urdu:70\n",
      "Computer:80\n",
      "Islamiat:45\n",
      "[72, 95, 70, 80, 45]\n"
     ]
    }
   ],
   "source": [
    "# \"English\",\"Urdu\",\"Mathematics\",\"Islamiat\",\"Computer\"\n",
    "Sub = \"Subjects\"\n",
    "print(Sub)\n",
    "\n",
    "subjects = []\n",
    "\n",
    "E = int(input(\"English:\"))\n",
    "M = int(input(\"Mathematics:\"))\n",
    "U = int(input(\"Urdu:\"))\n",
    "C = int(input(\"Computer:\"))\n",
    "I= int(input(\"Islamiat:\"))\n",
    "\n",
    "subjects.append(E)\n",
    "subjects.append(M)\n",
    "subjects.append(U)\n",
    "subjects.append(C)\n",
    "subjects.append(I)\n",
    "\n",
    "print(subjects)"
   ]
  },
  {
   "cell_type": "code",
   "execution_count": 11,
   "metadata": {},
   "outputs": [
    {
     "name": "stdout",
     "output_type": "stream",
     "text": [
      "Marks:\n",
      "Total Marks:450\n",
      "Obtained Marks:362\n"
     ]
    }
   ],
   "source": [
    "Marks = \"Marks:\"\n",
    "print(Marks)\n",
    "\n",
    "Total_Marks = \"450\"\n",
    "print(\"Total Marks:{}\".format(Total_Marks))\n",
    "\n",
    "marks = 0\n",
    "for s in subjects:\n",
    "    marks += s\n",
    "print(\"Obtained Marks:{}\".format(marks))"
   ]
  },
  {
   "cell_type": "code",
   "execution_count": 13,
   "metadata": {},
   "outputs": [
    {
     "name": "stdout",
     "output_type": "stream",
     "text": [
      "80.44444444444444\n"
     ]
    }
   ],
   "source": [
    "Percentage = marks*100 /450\n",
    "print(Percentage)"
   ]
  },
  {
   "cell_type": "code",
   "execution_count": 15,
   "metadata": {},
   "outputs": [
    {
     "name": "stdout",
     "output_type": "stream",
     "text": [
      "Your Grade: A\n"
     ]
    }
   ],
   "source": [
    "Grade = \"\"\n",
    "if Percentage >= 90 and Percentage <= 100:\n",
    "    Grade = \"A+\"\n",
    "    \n",
    "elif Percentage >= 80 and Percentage <= 90:\n",
    "    Grade = \"A\"\n",
    "\n",
    "elif Percentage >= 70 and Percentage <= 80:\n",
    "    Grade = \"B\"\n",
    "    \n",
    "elif Percentage >= 60 and Percentage <= 70:\n",
    "    Grade = \"C\"\n",
    "\n",
    "else:\n",
    "    Grade = \"F\"\n",
    "    \n",
    "print(\"Your Grade: {}\".format(Grade))"
   ]
  },
  {
   "cell_type": "code",
   "execution_count": 19,
   "metadata": {},
   "outputs": [
    {
     "name": "stdout",
     "output_type": "stream",
     "text": [
      "            MARKSHEET\n",
      "Name           :    M Waleed Khan\n",
      "Father Name    :    Nadir Shah Khan\n",
      "Class          :    12th\n",
      "Section        :    A\n",
      "Faculty        :    Pre-Engineering\n",
      "Roll No.       :    807614\n",
      "Total Marks    :    450\n",
      "Obtained Marks :    362\n",
      "Percentage     :    80.44444444444444\n",
      "Grade          :    A\n"
     ]
    }
   ],
   "source": [
    "print(\"            MARKSHEET\")\n",
    "\n",
    "print(\"Name           :   \", Name)\n",
    "print(\"Father Name    :   \", Father)\n",
    "print(\"Class          :   \", Class)\n",
    "print(\"Section        :   \", Section)\n",
    "print(\"Faculty        :   \", Faculty)\n",
    "print(\"Roll No.       :   \", Roll_No)\n",
    "print(\"Total Marks    :   \", Total_Marks)\n",
    "print(\"Obtained Marks :   \", marks)\n",
    "print(\"Percentage     :   \", Percentage)\n",
    "print(\"Grade          :   \", Grade)"
   ]
  },
  {
   "cell_type": "code",
   "execution_count": null,
   "metadata": {},
   "outputs": [],
   "source": []
  }
 ],
 "metadata": {
  "kernelspec": {
   "display_name": "Python 3",
   "language": "python",
   "name": "python3"
  },
  "language_info": {
   "codemirror_mode": {
    "name": "ipython",
    "version": 3
   },
   "file_extension": ".py",
   "mimetype": "text/x-python",
   "name": "python",
   "nbconvert_exporter": "python",
   "pygments_lexer": "ipython3",
   "version": "3.7.3"
  }
 },
 "nbformat": 4,
 "nbformat_minor": 2
}
