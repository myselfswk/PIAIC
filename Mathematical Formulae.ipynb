{
 "cells": [
  {
   "cell_type": "code",
   "execution_count": 45,
   "metadata": {},
   "outputs": [
    {
     "name": "stdout",
     "output_type": "stream",
     "text": [
      "<<<<<<Quadratic function>>>>>>\n",
      "a: 4\n",
      "b: 8\n",
      "c: 4\n",
      "There is only one root: -1.0\n"
     ]
    }
   ],
   "source": [
    "from math import sqrt\n",
    "\n",
    "print(\"<<<<<<Quadratic function>>>>>>\")\n",
    "a = float(input(\"a: \"))\n",
    "b = float(input(\"b: \"))\n",
    "c = float(input(\"c: \"))\n",
    "\n",
    "r = b**2 - 4*a*c\n",
    "\n",
    "if r > 0:\n",
    "#    num_roots = 2\n",
    "    x1 = (((-b) + sqrt(r))/(2*a))     \n",
    "    x2 = (((-b) - sqrt(r))/(2*a))\n",
    "    print(\"There are 2 roots: {} and {}\".format(x1, x2))\n",
    "elif r == 0:\n",
    "#    num_roots = 1\n",
    "    x = (-b) / (2*a)\n",
    "    print(\"There is only one root: {}\".format(x))\n",
    "else:\n",
    "#    num_roots = 0\n",
    "    print(\"No roots, discriminant < 0.\")"
   ]
  },
  {
   "cell_type": "code",
   "execution_count": 6,
   "metadata": {},
   "outputs": [
    {
     "name": "stdout",
     "output_type": "stream",
     "text": [
      "Mathematical induction\n",
      "Enter the number:5\n",
      "The sum of Linear Series is 15\n",
      "------------------\n",
      "The sum of Square Series is 55\n",
      "-----------------\n",
      "The sum of Cubic Series is 225\n"
     ]
    }
   ],
   "source": [
    "## For the series:1+2+3+4+--------+n\n",
    "print(\"Mathematical induction\")\n",
    "n = int(input(\"Enter the number:\"))\n",
    "Sum = 0\n",
    "for i in range(0,n+1,1):\n",
    "    Sum += i\n",
    "    \n",
    "print(\"The sum of Linear Series is {}\".format(Sum))\n",
    "\n",
    "print(\"------------------\")\n",
    "#for the series:(1+2+3+4+--------+n)**2\n",
    "Sum2 = 0\n",
    "for i in range(1,n+1,1):\n",
    "    Sum2 += pow(i,2)\n",
    "    \n",
    "print(\"The sum of Square Series is {}\".format(Sum2))\n",
    "\n",
    "print(\"-----------------\")\n",
    "#for the series:(1+2+3+4+---------+n)**3\n",
    "Sum3 = 0\n",
    "for i in range(0,n+1,1):\n",
    "    Sum3 += pow(i,3)\n",
    "    \n",
    "print(\"The sum of Cubic Series is {}\".format(Sum3))"
   ]
  },
  {
   "cell_type": "code",
   "execution_count": 14,
   "metadata": {
    "scrolled": true
   },
   "outputs": [
    {
     "name": "stdout",
     "output_type": "stream",
     "text": [
      "Enter the number of Term:3\n",
      "Enter first Term:6\n",
      "Enter the Common Difference:3\n",
      "3 Term : 12\n"
     ]
    }
   ],
   "source": [
    "#Arithematic Series\n",
    "n = int(input(\"Enter the number of Term:\"))\n",
    "a = int(input(\"Enter first Term:\"))\n",
    "d = int(input(\"Enter the Common Difference:\"))\n",
    "Tn = a + (n-1)*d\n",
    "print(\"{} Term : {}\".format(n, Tn))"
   ]
  },
  {
   "cell_type": "code",
   "execution_count": 20,
   "metadata": {},
   "outputs": [
    {
     "name": "stdout",
     "output_type": "stream",
     "text": [
      ">>>> n for Number of Term\n",
      ">>>> a for First Terms\n",
      ">>>> d for Common Difference\n",
      ">>>> Tn for Last Term\n",
      "Enter Your Choice:q\n",
      "Wrong Choice.....!\n"
     ]
    }
   ],
   "source": [
    "print(\">>>> n for Number of Term\")\n",
    "print(\">>>> a for First Terms\")\n",
    "print(\">>>> d for Common Difference\")\n",
    "print(\">>>> Tn for Last Term\")\n",
    "choice = input(\"Enter Your Choice:\")\n",
    "\n",
    "if choice == \"n\":\n",
    "    Tn = int(input(\"Enter the Last Term:\"))\n",
    "    a = int(input(\"Enter first Term:\"))\n",
    "    d = int(input(\"Enter the Common Difference:\"))\n",
    "    n = ((Tn-a)/d)+1\n",
    "    print(\"The no of Terms for your series: {}\".format(int(n)))\n",
    "elif choice == \"a\":\n",
    "    Tn = int(input(\"Enter the Last Term:\"))\n",
    "    n = int(input(\"Enter the Number of Term:\"))\n",
    "    d = int(input(\"Enter the Common Difference:\"))\n",
    "    a = Tn - (n-1)*d\n",
    "    print(\"The First Term of your series: {}\".format(int(a)))\n",
    "    \n",
    "elif choice == \"d\":\n",
    "    Tn = int(input(\"Enter the Last Term:\"))\n",
    "    a = int(input(\"Enter first Term:\"))\n",
    "    n = int(input(\"Enter the Number of Term:\"))\n",
    "    d = (Tn-a)/(n-1)\n",
    "    print(\"The Common Difference for your series: {}\".format(int(d)))\n",
    "\n",
    "elif choice == \"Tn\":\n",
    "    a = int(input(\"Enter first Term:\"))\n",
    "    n = int(input(\"Enter the Number of Term:\"))\n",
    "    d = int(input(\"Enter the Common Difference:\"))\n",
    "    Tn = a + (n-1)*d\n",
    "    print(\"The Last Term for your series: {}\".format(int(Tn)))\n",
    "\n",
    "else:\n",
    "    print(\"Wrong Choice.....!\")"
   ]
  },
  {
   "cell_type": "code",
   "execution_count": 17,
   "metadata": {},
   "outputs": [
    {
     "name": "stdout",
     "output_type": "stream",
     "text": [
      "Enter the number of Term:3\n",
      "Enter first Term:2\n",
      "Enter the Common Ratio:3\n",
      "3 Term : 18\n"
     ]
    }
   ],
   "source": [
    "#Geometric Sries\n",
    "n = int(input(\"Enter the number of Term:\"))\n",
    "a = int(input(\"Enter first Term:\"))\n",
    "r = int(input(\"Enter the Common Ratio:\"))\n",
    "Tn = a*pow(r,n-1)\n",
    "print(\"{} Term : {}\".format(n, Tn))"
   ]
  },
  {
   "cell_type": "code",
   "execution_count": 55,
   "metadata": {},
   "outputs": [
    {
     "name": "stdout",
     "output_type": "stream",
     "text": [
      "n for Number of Term\n",
      "a for First Terms\n",
      "r for Common Ratio\n",
      "Tn for Last Term\n",
      "Enter Your Choice:n\n",
      "Enter the Last Term:64\n",
      "Enter first Term:2\n",
      "Enter the Common Ratio:2\n",
      "The no of Terms for your series: 6\n"
     ]
    }
   ],
   "source": [
    "def nth_root(num,root):\n",
    "    answer = num ** (1/root) \n",
    "    return answer\n",
    "\n",
    "def main():\n",
    "    print(\"n for Number of Term\")\n",
    "    print(\"a for First Terms\")\n",
    "    print(\"r for Common Ratio\")\n",
    "    print(\"Tn for Last Term\")\n",
    "    choice = input(\"Enter Your Choice:\")\n",
    "\n",
    "    if choice == \"n\":\n",
    "        Tn = int(input(\"Enter the Last Term:\"))   #Tn = a*pow(r,n-1)\n",
    "        a = int(input(\"Enter first Term:\"))\n",
    "        r = int(input(\"Enter the Common Ratio:\"))\n",
    "#        n = (Tn/a)       #pow(r,n-1)\n",
    "        n = 0\n",
    "        while Tn >= a:\n",
    "            Tn = Tn/r\n",
    "            n += 1\n",
    "        print(\"The no of Terms for your series: {}\".format(int(n)))\n",
    "    \n",
    "    elif choice == \"a\":\n",
    "        Tn = int(input(\"Enter the Last Term:\"))\n",
    "        n = int(input(\"Enter the Number of Term:\"))\n",
    "        r = int(input(\"Enter the Common Ratio:\"))\n",
    "        a = Tn/pow(r,n-1)\n",
    "        print(\"The First Term of your series: {}\".format(int(a)))\n",
    "    \n",
    "    elif choice == \"r\":\n",
    "        Tn = int(input(\"Enter the Last Term:\"))\n",
    "        a = int(input(\"Enter first Term:\"))\n",
    "        n = int(input(\"Enter the Number of Term:\"))\n",
    "        first_r = (Tn/a)\n",
    "        second_r = n-1\n",
    "        third_r = nth_root(first_r, second_r)\n",
    "        r = third_r\n",
    "        print(\"The Common Difference for your series: {}\".format(int(r)))\n",
    "    \n",
    "    elif choice == \"Tn\":\n",
    "        a = int(input(\"Enter first Term:\"))\n",
    "        n = int(input(\"Enter the Number of Term:\"))\n",
    "        d = int(input(\"Enter the Common Difference:\"))\n",
    "        Tn = a*pow(r,n-1)\n",
    "        print(\"The Last Term for your series: {}\".format(int(Tn)))   #3,9,27,81 a=3 n=3 tn=81\n",
    "    \n",
    "    else:\n",
    "        print(\"Wrong Choice.....!\")\n",
    "        \n",
    "main()"
   ]
  },
  {
   "cell_type": "code",
   "execution_count": 31,
   "metadata": {},
   "outputs": [
    {
     "name": "stdout",
     "output_type": "stream",
     "text": [
      "5.0\n",
      "10.0\n"
     ]
    }
   ],
   "source": [
    "#Root of nth numbers\n",
    "\n",
    "import math\n",
    "def nth_root(num,root):\n",
    "    answer = num ** (1/root) \n",
    "    return answer\n",
    " \n",
    "print(nth_root(125,3))\n",
    "\n",
    "print(nth_root(10000,4))"
   ]
  },
  {
   "cell_type": "code",
   "execution_count": null,
   "metadata": {},
   "outputs": [],
   "source": []
  }
 ],
 "metadata": {
  "kernelspec": {
   "display_name": "Python 3",
   "language": "python",
   "name": "python3"
  },
  "language_info": {
   "codemirror_mode": {
    "name": "ipython",
    "version": 3
   },
   "file_extension": ".py",
   "mimetype": "text/x-python",
   "name": "python",
   "nbconvert_exporter": "python",
   "pygments_lexer": "ipython3",
   "version": "3.7.3"
  }
 },
 "nbformat": 4,
 "nbformat_minor": 2
}
